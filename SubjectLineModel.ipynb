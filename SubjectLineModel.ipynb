{
 "cells": [
  {
   "cell_type": "code",
   "execution_count": 1,
   "id": "da7d0c0f",
   "metadata": {},
   "outputs": [
    {
     "name": "stdout",
     "output_type": "stream",
     "text": [
      "Collecting package metadata (current_repodata.json): done\n",
      "Solving environment: done\n",
      "\n",
      "## Package Plan ##\n",
      "\n",
      "  environment location: /opt/anaconda3\n",
      "\n",
      "  added / updated specs:\n",
      "    - nltk\n",
      "\n",
      "\n",
      "The following NEW packages will be INSTALLED:\n",
      "\n",
      "  click              pkgs/main/noarch::click-8.0.3-pyhd3eb1b0_0\n",
      "  joblib             pkgs/main/noarch::joblib-1.1.0-pyhd3eb1b0_0\n",
      "  nltk               pkgs/main/noarch::nltk-3.6.5-pyhd3eb1b0_0\n",
      "  regex              pkgs/main/linux-64::regex-2021.8.3-py38h7f8727e_0\n",
      "\n",
      "The following packages will be UPDATED:\n",
      "\n",
      "  ca-certificates                      2021.5.25-h06a4308_1 --> 2021.10.26-h06a4308_2\n",
      "  certifi                          2021.5.30-py38h06a4308_0 --> 2021.10.8-py38h06a4308_0\n",
      "  conda                               4.10.1-py38h06a4308_1 --> 4.10.3-py38h06a4308_0\n",
      "  openssl                                 1.1.1k-h27cfd23_0 --> 1.1.1l-h7f8727e_0\n",
      "\n",
      "\n",
      "Preparing transaction: done\n",
      "Verifying transaction: failed\n",
      "\n",
      "EnvironmentNotWritableError: The current user does not have write permissions to the target environment.\n",
      "  environment location: /opt/anaconda3\n",
      "  uid: 1007\n",
      "  gid: 1007\n",
      "\n",
      "\n",
      "Defaulting to user installation because normal site-packages is not writeable\n",
      "Requirement already satisfied: sklearn in ./.local/lib/python3.8/site-packages (0.0)\n",
      "Requirement already satisfied: scikit-learn in /opt/anaconda3/envs/jupyterhub/lib/python3.8/site-packages (from sklearn) (0.24.2)\n",
      "Requirement already satisfied: scipy>=0.19.1 in /opt/anaconda3/envs/jupyterhub/lib/python3.8/site-packages (from scikit-learn->sklearn) (1.6.2)\n",
      "Requirement already satisfied: threadpoolctl>=2.0.0 in /opt/anaconda3/envs/jupyterhub/lib/python3.8/site-packages (from scikit-learn->sklearn) (2.1.0)\n",
      "Requirement already satisfied: joblib>=0.11 in /opt/anaconda3/envs/jupyterhub/lib/python3.8/site-packages (from scikit-learn->sklearn) (1.0.1)\n",
      "Requirement already satisfied: numpy>=1.13.3 in /opt/anaconda3/envs/jupyterhub/lib/python3.8/site-packages (from scikit-learn->sklearn) (1.19.5)\n",
      "Defaulting to user installation because normal site-packages is not writeable\n",
      "Requirement already satisfied: keytotext in ./.local/lib/python3.8/site-packages (1.5.2)\n",
      "Requirement already satisfied: torch in ./.local/lib/python3.8/site-packages (from keytotext) (1.10.0)\n",
      "Requirement already satisfied: pytorch_lightning in ./.local/lib/python3.8/site-packages (from keytotext) (1.5.4)\n",
      "Requirement already satisfied: wandb in ./.local/lib/python3.8/site-packages (from keytotext) (0.12.7)\n",
      "Requirement already satisfied: sentencepiece in ./.local/lib/python3.8/site-packages (from keytotext) (0.1.96)\n",
      "Requirement already satisfied: huggingface_hub in ./.local/lib/python3.8/site-packages (from keytotext) (0.2.1)\n",
      "Requirement already satisfied: datasets in ./.local/lib/python3.8/site-packages (from keytotext) (1.16.1)\n",
      "Requirement already satisfied: transformers in ./.local/lib/python3.8/site-packages (from keytotext) (4.12.5)\n",
      "Requirement already satisfied: dill in /opt/anaconda3/envs/jupyterhub/lib/python3.8/site-packages (from datasets->keytotext) (0.3.4)\n",
      "Requirement already satisfied: pyarrow!=4.0.0,>=3.0.0 in ./.local/lib/python3.8/site-packages (from datasets->keytotext) (6.0.1)\n",
      "Requirement already satisfied: xxhash in ./.local/lib/python3.8/site-packages (from datasets->keytotext) (2.0.2)\n",
      "Requirement already satisfied: requests>=2.19.0 in /opt/anaconda3/envs/jupyterhub/lib/python3.8/site-packages (from datasets->keytotext) (2.25.1)\n",
      "Requirement already satisfied: tqdm>=4.62.1 in ./.local/lib/python3.8/site-packages (from datasets->keytotext) (4.62.3)\n",
      "Requirement already satisfied: pandas in /opt/anaconda3/envs/jupyterhub/lib/python3.8/site-packages (from datasets->keytotext) (1.2.4)\n",
      "Requirement already satisfied: multiprocess in ./.local/lib/python3.8/site-packages (from datasets->keytotext) (0.70.12.2)\n",
      "Requirement already satisfied: fsspec[http]>=2021.05.0 in ./.local/lib/python3.8/site-packages (from datasets->keytotext) (2021.11.1)\n",
      "Requirement already satisfied: aiohttp in ./.local/lib/python3.8/site-packages (from datasets->keytotext) (3.8.1)\n",
      "Requirement already satisfied: numpy>=1.17 in /opt/anaconda3/envs/jupyterhub/lib/python3.8/site-packages (from datasets->keytotext) (1.19.5)\n",
      "Requirement already satisfied: packaging in /opt/anaconda3/envs/jupyterhub/lib/python3.8/site-packages (from datasets->keytotext) (20.9)\n",
      "Requirement already satisfied: filelock in ./.local/lib/python3.8/site-packages (from huggingface_hub->keytotext) (3.4.0)\n",
      "Requirement already satisfied: typing-extensions>=3.7.4.3 in /opt/anaconda3/envs/jupyterhub/lib/python3.8/site-packages (from huggingface_hub->keytotext) (3.7.4.3)\n",
      "Requirement already satisfied: pyyaml in /opt/anaconda3/envs/jupyterhub/lib/python3.8/site-packages (from huggingface_hub->keytotext) (6.0)\n",
      "Requirement already satisfied: pyparsing>=2.0.2 in /opt/anaconda3/envs/jupyterhub/lib/python3.8/site-packages (from packaging->datasets->keytotext) (2.4.7)\n",
      "Requirement already satisfied: chardet<5,>=3.0.2 in /opt/anaconda3/envs/jupyterhub/lib/python3.8/site-packages (from requests>=2.19.0->datasets->keytotext) (4.0.0)\n",
      "Requirement already satisfied: urllib3<1.27,>=1.21.1 in /opt/anaconda3/envs/jupyterhub/lib/python3.8/site-packages (from requests>=2.19.0->datasets->keytotext) (1.26.5)\n",
      "Requirement already satisfied: certifi>=2017.4.17 in /opt/anaconda3/envs/jupyterhub/lib/python3.8/site-packages (from requests>=2.19.0->datasets->keytotext) (2021.5.30)\n",
      "Requirement already satisfied: idna<3,>=2.5 in /opt/anaconda3/envs/jupyterhub/lib/python3.8/site-packages (from requests>=2.19.0->datasets->keytotext) (2.10)\n",
      "Requirement already satisfied: async-timeout<5.0,>=4.0.0a3 in ./.local/lib/python3.8/site-packages (from aiohttp->datasets->keytotext) (4.0.1)\n",
      "Requirement already satisfied: multidict<7.0,>=4.5 in ./.local/lib/python3.8/site-packages (from aiohttp->datasets->keytotext) (5.2.0)\n",
      "Requirement already satisfied: frozenlist>=1.1.1 in ./.local/lib/python3.8/site-packages (from aiohttp->datasets->keytotext) (1.2.0)\n",
      "Requirement already satisfied: yarl<2.0,>=1.0 in ./.local/lib/python3.8/site-packages (from aiohttp->datasets->keytotext) (1.7.2)\n",
      "Requirement already satisfied: aiosignal>=1.1.2 in ./.local/lib/python3.8/site-packages (from aiohttp->datasets->keytotext) (1.2.0)\n",
      "Requirement already satisfied: charset-normalizer<3.0,>=2.0 in ./.local/lib/python3.8/site-packages (from aiohttp->datasets->keytotext) (2.0.9)\n",
      "Requirement already satisfied: attrs>=17.3.0 in /opt/anaconda3/envs/jupyterhub/lib/python3.8/site-packages (from aiohttp->datasets->keytotext) (21.2.0)\n",
      "Requirement already satisfied: python-dateutil>=2.7.3 in /opt/anaconda3/envs/jupyterhub/lib/python3.8/site-packages (from pandas->datasets->keytotext) (2.8.1)\n",
      "Requirement already satisfied: pytz>=2017.3 in /opt/anaconda3/envs/jupyterhub/lib/python3.8/site-packages (from pandas->datasets->keytotext) (2021.1)\n",
      "Requirement already satisfied: six>=1.5 in /opt/anaconda3/envs/jupyterhub/lib/python3.8/site-packages (from python-dateutil>=2.7.3->pandas->datasets->keytotext) (1.15.0)\n",
      "Requirement already satisfied: future>=0.17.1 in /opt/anaconda3/envs/jupyterhub/lib/python3.8/site-packages (from pytorch_lightning->keytotext) (0.18.2)\n",
      "Requirement already satisfied: torchmetrics>=0.4.1 in ./.local/lib/python3.8/site-packages (from pytorch_lightning->keytotext) (0.6.0)\n",
      "Requirement already satisfied: pyDeprecate==0.3.1 in ./.local/lib/python3.8/site-packages (from pytorch_lightning->keytotext) (0.3.1)\n",
      "Requirement already satisfied: tensorboard>=2.2.0 in /opt/anaconda3/envs/jupyterhub/lib/python3.8/site-packages (from pytorch_lightning->keytotext) (2.5.0)\n",
      "Requirement already satisfied: tensorboard-plugin-wit>=1.6.0 in /opt/anaconda3/envs/jupyterhub/lib/python3.8/site-packages (from tensorboard>=2.2.0->pytorch_lightning->keytotext) (1.8.0)\n",
      "Requirement already satisfied: markdown>=2.6.8 in /opt/anaconda3/envs/jupyterhub/lib/python3.8/site-packages (from tensorboard>=2.2.0->pytorch_lightning->keytotext) (3.3.4)\n",
      "Requirement already satisfied: tensorboard-data-server<0.7.0,>=0.6.0 in /opt/anaconda3/envs/jupyterhub/lib/python3.8/site-packages (from tensorboard>=2.2.0->pytorch_lightning->keytotext) (0.6.1)\n",
      "Requirement already satisfied: werkzeug>=0.11.15 in /opt/anaconda3/envs/jupyterhub/lib/python3.8/site-packages (from tensorboard>=2.2.0->pytorch_lightning->keytotext) (2.0.1)\n",
      "Requirement already satisfied: absl-py>=0.4 in /opt/anaconda3/envs/jupyterhub/lib/python3.8/site-packages (from tensorboard>=2.2.0->pytorch_lightning->keytotext) (0.12.0)\n",
      "Requirement already satisfied: google-auth<2,>=1.6.3 in /opt/anaconda3/envs/jupyterhub/lib/python3.8/site-packages (from tensorboard>=2.2.0->pytorch_lightning->keytotext) (1.31.0)\n",
      "Requirement already satisfied: grpcio>=1.24.3 in /opt/anaconda3/envs/jupyterhub/lib/python3.8/site-packages (from tensorboard>=2.2.0->pytorch_lightning->keytotext) (1.34.1)\n",
      "Requirement already satisfied: google-auth-oauthlib<0.5,>=0.4.1 in /opt/anaconda3/envs/jupyterhub/lib/python3.8/site-packages (from tensorboard>=2.2.0->pytorch_lightning->keytotext) (0.4.4)\n",
      "Requirement already satisfied: wheel>=0.26 in /opt/anaconda3/envs/jupyterhub/lib/python3.8/site-packages (from tensorboard>=2.2.0->pytorch_lightning->keytotext) (0.36.2)\n",
      "Requirement already satisfied: protobuf>=3.6.0 in /opt/anaconda3/envs/jupyterhub/lib/python3.8/site-packages (from tensorboard>=2.2.0->pytorch_lightning->keytotext) (3.17.3)\n",
      "Requirement already satisfied: setuptools>=41.0.0 in /opt/anaconda3/envs/jupyterhub/lib/python3.8/site-packages (from tensorboard>=2.2.0->pytorch_lightning->keytotext) (52.0.0.post20210125)\n",
      "Requirement already satisfied: cachetools<5.0,>=2.0.0 in /opt/anaconda3/envs/jupyterhub/lib/python3.8/site-packages (from google-auth<2,>=1.6.3->tensorboard>=2.2.0->pytorch_lightning->keytotext) (4.2.2)\n",
      "Requirement already satisfied: pyasn1-modules>=0.2.1 in /opt/anaconda3/envs/jupyterhub/lib/python3.8/site-packages (from google-auth<2,>=1.6.3->tensorboard>=2.2.0->pytorch_lightning->keytotext) (0.2.8)\n",
      "Requirement already satisfied: rsa<5,>=3.1.4 in /opt/anaconda3/envs/jupyterhub/lib/python3.8/site-packages (from google-auth<2,>=1.6.3->tensorboard>=2.2.0->pytorch_lightning->keytotext) (4.7.2)\n",
      "Requirement already satisfied: requests-oauthlib>=0.7.0 in /opt/anaconda3/envs/jupyterhub/lib/python3.8/site-packages (from google-auth-oauthlib<0.5,>=0.4.1->tensorboard>=2.2.0->pytorch_lightning->keytotext) (1.3.0)\n"
     ]
    },
    {
     "name": "stdout",
     "output_type": "stream",
     "text": [
      "Requirement already satisfied: pyasn1<0.5.0,>=0.4.6 in /opt/anaconda3/envs/jupyterhub/lib/python3.8/site-packages (from pyasn1-modules>=0.2.1->google-auth<2,>=1.6.3->tensorboard>=2.2.0->pytorch_lightning->keytotext) (0.4.8)\n",
      "Requirement already satisfied: oauthlib>=3.0.0 in /opt/anaconda3/envs/jupyterhub/lib/python3.8/site-packages (from requests-oauthlib>=0.7.0->google-auth-oauthlib<0.5,>=0.4.1->tensorboard>=2.2.0->pytorch_lightning->keytotext) (3.1.1)\n",
      "Requirement already satisfied: regex!=2019.12.17 in ./.local/lib/python3.8/site-packages (from transformers->keytotext) (2021.11.10)\n",
      "Requirement already satisfied: sacremoses in ./.local/lib/python3.8/site-packages (from transformers->keytotext) (0.0.46)\n",
      "Requirement already satisfied: tokenizers<0.11,>=0.10.1 in ./.local/lib/python3.8/site-packages (from transformers->keytotext) (0.10.3)\n",
      "Requirement already satisfied: joblib in /opt/anaconda3/envs/jupyterhub/lib/python3.8/site-packages (from sacremoses->transformers->keytotext) (1.0.1)\n",
      "Requirement already satisfied: click in /opt/anaconda3/envs/jupyterhub/lib/python3.8/site-packages (from sacremoses->transformers->keytotext) (8.0.3)\n",
      "Requirement already satisfied: sentry-sdk>=1.0.0 in /opt/anaconda3/envs/jupyterhub/lib/python3.8/site-packages (from wandb->keytotext) (1.4.3)\n",
      "Requirement already satisfied: pathtools in ./.local/lib/python3.8/site-packages (from wandb->keytotext) (0.1.2)\n",
      "Requirement already satisfied: yaspin>=1.0.0 in ./.local/lib/python3.8/site-packages (from wandb->keytotext) (2.1.0)\n",
      "Requirement already satisfied: shortuuid>=0.5.0 in ./.local/lib/python3.8/site-packages (from wandb->keytotext) (1.0.8)\n",
      "Requirement already satisfied: GitPython>=1.0.0 in /opt/anaconda3/envs/jupyterhub/lib/python3.8/site-packages (from wandb->keytotext) (3.1.24)\n",
      "Requirement already satisfied: docker-pycreds>=0.4.0 in ./.local/lib/python3.8/site-packages (from wandb->keytotext) (0.4.0)\n",
      "Requirement already satisfied: psutil>=5.0.0 in ./.local/lib/python3.8/site-packages (from wandb->keytotext) (5.8.0)\n",
      "Requirement already satisfied: promise<3,>=2.0 in /opt/anaconda3/envs/jupyterhub/lib/python3.8/site-packages (from wandb->keytotext) (2.3)\n",
      "Requirement already satisfied: subprocess32>=3.5.3 in ./.local/lib/python3.8/site-packages (from wandb->keytotext) (3.5.4)\n",
      "Requirement already satisfied: configparser>=3.8.1 in ./.local/lib/python3.8/site-packages (from wandb->keytotext) (5.2.0)\n",
      "Requirement already satisfied: gitdb<5,>=4.0.1 in /opt/anaconda3/envs/jupyterhub/lib/python3.8/site-packages (from GitPython>=1.0.0->wandb->keytotext) (4.0.7)\n",
      "Requirement already satisfied: smmap<5,>=3.0.1 in /opt/anaconda3/envs/jupyterhub/lib/python3.8/site-packages (from gitdb<5,>=4.0.1->GitPython>=1.0.0->wandb->keytotext) (4.0.0)\n",
      "Requirement already satisfied: termcolor<2.0.0,>=1.1.0 in /opt/anaconda3/envs/jupyterhub/lib/python3.8/site-packages (from yaspin>=1.0.0->wandb->keytotext) (1.1.0)\n",
      "Defaulting to user installation because normal site-packages is not writeable\n",
      "Requirement already satisfied: pandas in /opt/anaconda3/envs/jupyterhub/lib/python3.8/site-packages (1.2.4)\n",
      "Requirement already satisfied: python-dateutil>=2.7.3 in /opt/anaconda3/envs/jupyterhub/lib/python3.8/site-packages (from pandas) (2.8.1)\n",
      "Requirement already satisfied: pytz>=2017.3 in /opt/anaconda3/envs/jupyterhub/lib/python3.8/site-packages (from pandas) (2021.1)\n",
      "Requirement already satisfied: numpy>=1.16.5 in /opt/anaconda3/envs/jupyterhub/lib/python3.8/site-packages (from pandas) (1.19.5)\n",
      "Requirement already satisfied: six>=1.5 in /opt/anaconda3/envs/jupyterhub/lib/python3.8/site-packages (from python-dateutil>=2.7.3->pandas) (1.15.0)\n",
      "Defaulting to user installation because normal site-packages is not writeable\n",
      "Requirement already satisfied: gensim in ./.local/lib/python3.8/site-packages (4.1.2)\n",
      "Requirement already satisfied: scipy>=0.18.1 in /opt/anaconda3/envs/jupyterhub/lib/python3.8/site-packages (from gensim) (1.6.2)\n",
      "Requirement already satisfied: numpy>=1.17.0 in /opt/anaconda3/envs/jupyterhub/lib/python3.8/site-packages (from gensim) (1.19.5)\n",
      "Requirement already satisfied: smart-open>=1.8.1 in ./.local/lib/python3.8/site-packages (from gensim) (5.2.1)\n",
      "Defaulting to user installation because normal site-packages is not writeable\n",
      "Requirement already satisfied: spacy in ./.local/lib/python3.8/site-packages (3.2.0)\n",
      "Requirement already satisfied: tqdm<5.0.0,>=4.38.0 in ./.local/lib/python3.8/site-packages (from spacy) (4.62.3)\n",
      "Requirement already satisfied: jinja2 in /opt/anaconda3/envs/jupyterhub/lib/python3.8/site-packages (from spacy) (3.0.0)\n",
      "Requirement already satisfied: setuptools in /opt/anaconda3/envs/jupyterhub/lib/python3.8/site-packages (from spacy) (52.0.0.post20210125)\n",
      "Requirement already satisfied: cymem<2.1.0,>=2.0.2 in ./.local/lib/python3.8/site-packages (from spacy) (2.0.6)\n",
      "Requirement already satisfied: blis<0.8.0,>=0.4.0 in ./.local/lib/python3.8/site-packages (from spacy) (0.7.5)\n",
      "Requirement already satisfied: requests<3.0.0,>=2.13.0 in /opt/anaconda3/envs/jupyterhub/lib/python3.8/site-packages (from spacy) (2.25.1)\n",
      "Requirement already satisfied: spacy-loggers<2.0.0,>=1.0.0 in ./.local/lib/python3.8/site-packages (from spacy) (1.0.1)\n",
      "Requirement already satisfied: typer<0.5.0,>=0.3.0 in ./.local/lib/python3.8/site-packages (from spacy) (0.4.0)\n",
      "Requirement already satisfied: preshed<3.1.0,>=3.0.2 in ./.local/lib/python3.8/site-packages (from spacy) (3.0.6)\n",
      "Requirement already satisfied: murmurhash<1.1.0,>=0.28.0 in ./.local/lib/python3.8/site-packages (from spacy) (1.0.6)\n",
      "Requirement already satisfied: catalogue<2.1.0,>=2.0.6 in ./.local/lib/python3.8/site-packages (from spacy) (2.0.6)\n",
      "Requirement already satisfied: packaging>=20.0 in /opt/anaconda3/envs/jupyterhub/lib/python3.8/site-packages (from spacy) (20.9)\n",
      "Requirement already satisfied: pathy>=0.3.5 in ./.local/lib/python3.8/site-packages (from spacy) (0.6.1)\n",
      "Requirement already satisfied: numpy>=1.15.0 in /opt/anaconda3/envs/jupyterhub/lib/python3.8/site-packages (from spacy) (1.19.5)\n",
      "Requirement already satisfied: langcodes<4.0.0,>=3.2.0 in ./.local/lib/python3.8/site-packages (from spacy) (3.3.0)\n",
      "Requirement already satisfied: srsly<3.0.0,>=2.4.1 in ./.local/lib/python3.8/site-packages (from spacy) (2.4.2)\n",
      "Requirement already satisfied: pydantic!=1.8,!=1.8.1,<1.9.0,>=1.7.4 in ./.local/lib/python3.8/site-packages (from spacy) (1.8.2)\n",
      "Requirement already satisfied: spacy-legacy<3.1.0,>=3.0.8 in ./.local/lib/python3.8/site-packages (from spacy) (3.0.8)\n",
      "Requirement already satisfied: wasabi<1.1.0,>=0.8.1 in ./.local/lib/python3.8/site-packages (from spacy) (0.8.2)\n",
      "Requirement already satisfied: thinc<8.1.0,>=8.0.12 in ./.local/lib/python3.8/site-packages (from spacy) (8.0.13)\n",
      "Requirement already satisfied: pyparsing>=2.0.2 in /opt/anaconda3/envs/jupyterhub/lib/python3.8/site-packages (from packaging>=20.0->spacy) (2.4.7)\n",
      "Requirement already satisfied: smart-open<6.0.0,>=5.0.0 in ./.local/lib/python3.8/site-packages (from pathy>=0.3.5->spacy) (5.2.1)\n",
      "Requirement already satisfied: typing-extensions>=3.7.4.3 in /opt/anaconda3/envs/jupyterhub/lib/python3.8/site-packages (from pydantic!=1.8,!=1.8.1,<1.9.0,>=1.7.4->spacy) (3.7.4.3)\n",
      "Requirement already satisfied: certifi>=2017.4.17 in /opt/anaconda3/envs/jupyterhub/lib/python3.8/site-packages (from requests<3.0.0,>=2.13.0->spacy) (2021.5.30)\n",
      "Requirement already satisfied: chardet<5,>=3.0.2 in /opt/anaconda3/envs/jupyterhub/lib/python3.8/site-packages (from requests<3.0.0,>=2.13.0->spacy) (4.0.0)\n",
      "Requirement already satisfied: urllib3<1.27,>=1.21.1 in /opt/anaconda3/envs/jupyterhub/lib/python3.8/site-packages (from requests<3.0.0,>=2.13.0->spacy) (1.26.5)\n",
      "Requirement already satisfied: idna<3,>=2.5 in /opt/anaconda3/envs/jupyterhub/lib/python3.8/site-packages (from requests<3.0.0,>=2.13.0->spacy) (2.10)\n",
      "Requirement already satisfied: click<9.0.0,>=7.1.1 in /opt/anaconda3/envs/jupyterhub/lib/python3.8/site-packages (from typer<0.5.0,>=0.3.0->spacy) (8.0.3)\n",
      "Requirement already satisfied: MarkupSafe>=2.0.0rc2 in /opt/anaconda3/envs/jupyterhub/lib/python3.8/site-packages (from jinja2->spacy) (2.0.1)\n",
      "Defaulting to user installation because normal site-packages is not writeable\n",
      "Requirement already satisfied: numpy in /opt/anaconda3/envs/jupyterhub/lib/python3.8/site-packages (1.19.5)\n"
     ]
    },
    {
     "name": "stdout",
     "output_type": "stream",
     "text": [
      "Defaulting to user installation because normal site-packages is not writeable\n",
      "Requirement already satisfied: rake_nltk in ./.local/lib/python3.8/site-packages (1.0.6)\n",
      "Requirement already satisfied: nltk<4.0.0,>=3.6.2 in ./.local/lib/python3.8/site-packages (from rake_nltk) (3.6.5)\n",
      "Requirement already satisfied: joblib in /opt/anaconda3/envs/jupyterhub/lib/python3.8/site-packages (from nltk<4.0.0,>=3.6.2->rake_nltk) (1.0.1)\n",
      "Requirement already satisfied: click in /opt/anaconda3/envs/jupyterhub/lib/python3.8/site-packages (from nltk<4.0.0,>=3.6.2->rake_nltk) (8.0.3)\n",
      "Requirement already satisfied: regex>=2021.8.3 in ./.local/lib/python3.8/site-packages (from nltk<4.0.0,>=3.6.2->rake_nltk) (2021.11.10)\n",
      "Requirement already satisfied: tqdm in ./.local/lib/python3.8/site-packages (from nltk<4.0.0,>=3.6.2->rake_nltk) (4.62.3)\n",
      "2021-12-05 18:23:26.309712: I tensorflow/stream_executor/platform/default/dso_loader.cc:53] Successfully opened dynamic library libcudart.so.11.0\n",
      "Defaulting to user installation because normal site-packages is not writeable\n",
      "Collecting en-core-web-sm==3.2.0\n",
      "  Downloading https://github.com/explosion/spacy-models/releases/download/en_core_web_sm-3.2.0/en_core_web_sm-3.2.0-py3-none-any.whl (13.9 MB)\n",
      "\u001b[K     |████████████████████████████████| 13.9 MB 528 kB/s eta 0:00:01\n",
      "\u001b[?25hRequirement already satisfied: spacy<3.3.0,>=3.2.0 in ./.local/lib/python3.8/site-packages (from en-core-web-sm==3.2.0) (3.2.0)\n",
      "Requirement already satisfied: thinc<8.1.0,>=8.0.12 in ./.local/lib/python3.8/site-packages (from spacy<3.3.0,>=3.2.0->en-core-web-sm==3.2.0) (8.0.13)\n",
      "Requirement already satisfied: jinja2 in /opt/anaconda3/envs/jupyterhub/lib/python3.8/site-packages (from spacy<3.3.0,>=3.2.0->en-core-web-sm==3.2.0) (3.0.0)\n",
      "Requirement already satisfied: cymem<2.1.0,>=2.0.2 in ./.local/lib/python3.8/site-packages (from spacy<3.3.0,>=3.2.0->en-core-web-sm==3.2.0) (2.0.6)\n",
      "Requirement already satisfied: wasabi<1.1.0,>=0.8.1 in ./.local/lib/python3.8/site-packages (from spacy<3.3.0,>=3.2.0->en-core-web-sm==3.2.0) (0.8.2)\n",
      "Requirement already satisfied: requests<3.0.0,>=2.13.0 in /opt/anaconda3/envs/jupyterhub/lib/python3.8/site-packages (from spacy<3.3.0,>=3.2.0->en-core-web-sm==3.2.0) (2.25.1)\n",
      "Requirement already satisfied: numpy>=1.15.0 in /opt/anaconda3/envs/jupyterhub/lib/python3.8/site-packages (from spacy<3.3.0,>=3.2.0->en-core-web-sm==3.2.0) (1.19.5)\n",
      "Requirement already satisfied: preshed<3.1.0,>=3.0.2 in ./.local/lib/python3.8/site-packages (from spacy<3.3.0,>=3.2.0->en-core-web-sm==3.2.0) (3.0.6)\n",
      "Requirement already satisfied: catalogue<2.1.0,>=2.0.6 in ./.local/lib/python3.8/site-packages (from spacy<3.3.0,>=3.2.0->en-core-web-sm==3.2.0) (2.0.6)\n",
      "Requirement already satisfied: pathy>=0.3.5 in ./.local/lib/python3.8/site-packages (from spacy<3.3.0,>=3.2.0->en-core-web-sm==3.2.0) (0.6.1)\n",
      "Requirement already satisfied: pydantic!=1.8,!=1.8.1,<1.9.0,>=1.7.4 in ./.local/lib/python3.8/site-packages (from spacy<3.3.0,>=3.2.0->en-core-web-sm==3.2.0) (1.8.2)\n",
      "Requirement already satisfied: murmurhash<1.1.0,>=0.28.0 in ./.local/lib/python3.8/site-packages (from spacy<3.3.0,>=3.2.0->en-core-web-sm==3.2.0) (1.0.6)\n",
      "Requirement already satisfied: spacy-loggers<2.0.0,>=1.0.0 in ./.local/lib/python3.8/site-packages (from spacy<3.3.0,>=3.2.0->en-core-web-sm==3.2.0) (1.0.1)\n",
      "Requirement already satisfied: langcodes<4.0.0,>=3.2.0 in ./.local/lib/python3.8/site-packages (from spacy<3.3.0,>=3.2.0->en-core-web-sm==3.2.0) (3.3.0)\n",
      "Requirement already satisfied: tqdm<5.0.0,>=4.38.0 in ./.local/lib/python3.8/site-packages (from spacy<3.3.0,>=3.2.0->en-core-web-sm==3.2.0) (4.62.3)\n",
      "Requirement already satisfied: srsly<3.0.0,>=2.4.1 in ./.local/lib/python3.8/site-packages (from spacy<3.3.0,>=3.2.0->en-core-web-sm==3.2.0) (2.4.2)\n",
      "Requirement already satisfied: blis<0.8.0,>=0.4.0 in ./.local/lib/python3.8/site-packages (from spacy<3.3.0,>=3.2.0->en-core-web-sm==3.2.0) (0.7.5)\n",
      "Requirement already satisfied: typer<0.5.0,>=0.3.0 in ./.local/lib/python3.8/site-packages (from spacy<3.3.0,>=3.2.0->en-core-web-sm==3.2.0) (0.4.0)\n",
      "Requirement already satisfied: setuptools in /opt/anaconda3/envs/jupyterhub/lib/python3.8/site-packages (from spacy<3.3.0,>=3.2.0->en-core-web-sm==3.2.0) (52.0.0.post20210125)\n",
      "Requirement already satisfied: spacy-legacy<3.1.0,>=3.0.8 in ./.local/lib/python3.8/site-packages (from spacy<3.3.0,>=3.2.0->en-core-web-sm==3.2.0) (3.0.8)\n",
      "Requirement already satisfied: packaging>=20.0 in /opt/anaconda3/envs/jupyterhub/lib/python3.8/site-packages (from spacy<3.3.0,>=3.2.0->en-core-web-sm==3.2.0) (20.9)\n",
      "Requirement already satisfied: pyparsing>=2.0.2 in /opt/anaconda3/envs/jupyterhub/lib/python3.8/site-packages (from packaging>=20.0->spacy<3.3.0,>=3.2.0->en-core-web-sm==3.2.0) (2.4.7)\n",
      "Requirement already satisfied: smart-open<6.0.0,>=5.0.0 in ./.local/lib/python3.8/site-packages (from pathy>=0.3.5->spacy<3.3.0,>=3.2.0->en-core-web-sm==3.2.0) (5.2.1)\n",
      "Requirement already satisfied: typing-extensions>=3.7.4.3 in /opt/anaconda3/envs/jupyterhub/lib/python3.8/site-packages (from pydantic!=1.8,!=1.8.1,<1.9.0,>=1.7.4->spacy<3.3.0,>=3.2.0->en-core-web-sm==3.2.0) (3.7.4.3)\n",
      "Requirement already satisfied: chardet<5,>=3.0.2 in /opt/anaconda3/envs/jupyterhub/lib/python3.8/site-packages (from requests<3.0.0,>=2.13.0->spacy<3.3.0,>=3.2.0->en-core-web-sm==3.2.0) (4.0.0)\n",
      "Requirement already satisfied: urllib3<1.27,>=1.21.1 in /opt/anaconda3/envs/jupyterhub/lib/python3.8/site-packages (from requests<3.0.0,>=2.13.0->spacy<3.3.0,>=3.2.0->en-core-web-sm==3.2.0) (1.26.5)\n",
      "Requirement already satisfied: idna<3,>=2.5 in /opt/anaconda3/envs/jupyterhub/lib/python3.8/site-packages (from requests<3.0.0,>=2.13.0->spacy<3.3.0,>=3.2.0->en-core-web-sm==3.2.0) (2.10)\n",
      "Requirement already satisfied: certifi>=2017.4.17 in /opt/anaconda3/envs/jupyterhub/lib/python3.8/site-packages (from requests<3.0.0,>=2.13.0->spacy<3.3.0,>=3.2.0->en-core-web-sm==3.2.0) (2021.5.30)\n",
      "Requirement already satisfied: click<9.0.0,>=7.1.1 in /opt/anaconda3/envs/jupyterhub/lib/python3.8/site-packages (from typer<0.5.0,>=0.3.0->spacy<3.3.0,>=3.2.0->en-core-web-sm==3.2.0) (8.0.3)\n",
      "Requirement already satisfied: MarkupSafe>=2.0.0rc2 in /opt/anaconda3/envs/jupyterhub/lib/python3.8/site-packages (from jinja2->spacy<3.3.0,>=3.2.0->en-core-web-sm==3.2.0) (2.0.1)\n",
      "\u001b[38;5;2m✔ Download and installation successful\u001b[0m\n",
      "You can now load the package via spacy.load('en_core_web_sm')\n"
     ]
    },
    {
     "name": "stderr",
     "output_type": "stream",
     "text": [
      "Global seed set to 42\n",
      "[nltk_data] Downloading package punkt to /home/jwinchell/nltk_data...\n",
      "[nltk_data]   Package punkt is already up-to-date!\n",
      "[nltk_data] Downloading package stopwords to\n",
      "[nltk_data]     /home/jwinchell/nltk_data...\n",
      "[nltk_data]   Package stopwords is already up-to-date!\n"
     ]
    }
   ],
   "source": [
    "!conda install nltk -y\n",
    "!pip install sklearn\n",
    "!pip install keytotext\n",
    "!pip install pandas\n",
    "!pip install gensim\n",
    "!pip install spacy\n",
    "!pip install numpy\n",
    "!pip install rake_nltk\n",
    "!python3 -m spacy download en_core_web_sm\n",
    "\n",
    "#import extractkeys\n",
    "import nltk\n",
    "from nltk.tokenize import word_tokenize\n",
    "from nltk.tokenize.treebank import TreebankWordDetokenizer\n",
    "from sklearn.model_selection import train_test_split\n",
    "from keytotext import trainer, pipeline, make_dataset\n",
    "import pandas as pd\n",
    "import json\n",
    "import os\n",
    "from gensim.models.doc2vec import Doc2Vec, TaggedDocument\n",
    "from sklearn.cluster import MiniBatchKMeans\n",
    "from sklearn.metrics import silhouette_samples, silhouette_score\n",
    "from nltk.tokenize.treebank import TreebankWordDetokenizer\n",
    "from rake_nltk import Rake\n",
    "import spacy\n",
    "from spacy import displacy\n",
    "import numpy as np\n",
    "\n",
    "nltk.download('punkt')\n",
    "nltk.download('stopwords')\n",
    "os.environ[\"TOKENIZERS_PARALLELISM\"] = \"True\""
   ]
  },
  {
   "cell_type": "code",
   "execution_count": 4,
   "id": "da3513b2",
   "metadata": {},
   "outputs": [
    {
     "name": "stdout",
     "output_type": "stream",
     "text": [
      "Starting...\n",
      "Training has started...\n"
     ]
    },
    {
     "name": "stderr",
     "output_type": "stream",
     "text": [
      "/home/jwinchell/.local/lib/python3.8/site-packages/pytorch_lightning/trainer/connectors/callback_connector.py:90: LightningDeprecationWarning: Setting `Trainer(progress_bar_refresh_rate=5)` is deprecated in v1.5 and will be removed in v1.7. Please pass `pytorch_lightning.callbacks.progress.TQDMProgressBar` with `refresh_rate` directly to the Trainer's `callbacks` argument instead. Or, to disable the progress bar pass `enable_progress_bar = False` to the Trainer.\n",
      "  rank_zero_deprecation(\n",
      "GPU available: True, used: False\n",
      "TPU available: False, using: 0 TPU cores\n",
      "IPU available: False, using: 0 IPUs\n",
      "/home/jwinchell/.local/lib/python3.8/site-packages/pytorch_lightning/trainer/trainer.py:1579: UserWarning: GPU available but not used. Set the gpus flag in your trainer `Trainer(gpus=1)` or script `--gpus=1`.\n",
      "  rank_zero_warn(\n",
      "Failed to detect the name of this notebook, you can set it manually with the WANDB_NOTEBOOK_NAME environment variable to enable code saving.\n",
      "\u001b[34m\u001b[1mwandb\u001b[0m: Currently logged in as: \u001b[33mkathyyliu\u001b[0m (use `wandb login --relogin` to force relogin)\n"
     ]
    },
    {
     "data": {
      "text/html": [
       "\n",
       "                    Syncing run <strong><a href=\"https://wandb.ai/kathyyliu/keytotext/runs/22idavcm\" target=\"_blank\">golden-salad-22</a></strong> to <a href=\"https://wandb.ai/kathyyliu/keytotext\" target=\"_blank\">Weights & Biases</a> (<a href=\"https://docs.wandb.com/integrations/jupyter.html\" target=\"_blank\">docs</a>).<br/>\n",
       "\n",
       "                "
      ],
      "text/plain": [
       "<IPython.core.display.HTML object>"
      ]
     },
     "metadata": {},
     "output_type": "display_data"
    },
    {
     "name": "stderr",
     "output_type": "stream",
     "text": [
      "\n",
      "  | Name  | Type                       | Params\n",
      "-----------------------------------------------------\n",
      "0 | model | T5ForConditionalGeneration | 222 M \n",
      "-----------------------------------------------------\n",
      "222 M     Trainable params\n",
      "0         Non-trainable params\n",
      "222 M     Total params\n",
      "891.614   Total estimated model params size (MB)\n"
     ]
    },
    {
     "data": {
      "application/vnd.jupyter.widget-view+json": {
       "model_id": "3fb476b86b21487091ab682ea6f4c06c",
       "version_major": 2,
       "version_minor": 0
      },
      "text/plain": [
       "Validation sanity check: 0it [00:00, ?it/s]"
      ]
     },
     "metadata": {},
     "output_type": "display_data"
    },
    {
     "name": "stderr",
     "output_type": "stream",
     "text": [
      "/home/jwinchell/.local/lib/python3.8/site-packages/pytorch_lightning/trainer/data_loading.py:111: UserWarning: The dataloader, val_dataloader 0, does not have many workers which may be a bottleneck. Consider increasing the value of the `num_workers` argument` (try 32 which is the number of cpus on this machine) in the `DataLoader` init to improve performance.\n",
      "  rank_zero_warn(\n",
      "/home/jwinchell/.local/lib/python3.8/site-packages/pytorch_lightning/utilities/data.py:59: UserWarning: Trying to infer the `batch_size` from an ambiguous collection. The batch size we found is 19. To avoid any miscalculations, use `self.log(..., batch_size=batch_size)`.\n",
      "  warning_cache.warn(\n",
      "/home/jwinchell/.local/lib/python3.8/site-packages/pytorch_lightning/utilities/data.py:59: UserWarning: Trying to infer the `batch_size` from an ambiguous collection. The batch size we found is 22. To avoid any miscalculations, use `self.log(..., batch_size=batch_size)`.\n",
      "  warning_cache.warn(\n",
      "Global seed set to 42\n",
      "/home/jwinchell/.local/lib/python3.8/site-packages/pytorch_lightning/trainer/data_loading.py:111: UserWarning: The dataloader, train_dataloader, does not have many workers which may be a bottleneck. Consider increasing the value of the `num_workers` argument` (try 32 which is the number of cpus on this machine) in the `DataLoader` init to improve performance.\n",
      "  rank_zero_warn(\n",
      "/home/jwinchell/.local/lib/python3.8/site-packages/pytorch_lightning/trainer/data_loading.py:407: UserWarning: The number of training samples (49) is smaller than the logging interval Trainer(log_every_n_steps=50). Set a lower value for log_every_n_steps if you want to see logs for the training epoch.\n",
      "  rank_zero_warn(\n"
     ]
    },
    {
     "data": {
      "application/vnd.jupyter.widget-view+json": {
       "model_id": "e38c2302be094b42ab0c6ae2359b420c",
       "version_major": 2,
       "version_minor": 0
      },
      "text/plain": [
       "Training: 0it [00:00, ?it/s]"
      ]
     },
     "metadata": {},
     "output_type": "display_data"
    },
    {
     "data": {
      "application/vnd.jupyter.widget-view+json": {
       "model_id": "",
       "version_major": 2,
       "version_minor": 0
      },
      "text/plain": [
       "Validating: 0it [00:00, ?it/s]"
      ]
     },
     "metadata": {},
     "output_type": "display_data"
    },
    {
     "name": "stderr",
     "output_type": "stream",
     "text": [
      "/home/jwinchell/.local/lib/python3.8/site-packages/pytorch_lightning/utilities/data.py:59: UserWarning: Trying to infer the `batch_size` from an ambiguous collection. The batch size we found is 15. To avoid any miscalculations, use `self.log(..., batch_size=batch_size)`.\n",
      "  warning_cache.warn(\n",
      "/home/jwinchell/.local/lib/python3.8/site-packages/pytorch_lightning/utilities/data.py:59: UserWarning: Trying to infer the `batch_size` from an ambiguous collection. The batch size we found is 24. To avoid any miscalculations, use `self.log(..., batch_size=batch_size)`.\n",
      "  warning_cache.warn(\n",
      "/home/jwinchell/.local/lib/python3.8/site-packages/pytorch_lightning/utilities/data.py:59: UserWarning: Trying to infer the `batch_size` from an ambiguous collection. The batch size we found is 26. To avoid any miscalculations, use `self.log(..., batch_size=batch_size)`.\n",
      "  warning_cache.warn(\n",
      "/home/jwinchell/.local/lib/python3.8/site-packages/pytorch_lightning/utilities/data.py:59: UserWarning: Trying to infer the `batch_size` from an ambiguous collection. The batch size we found is 23. To avoid any miscalculations, use `self.log(..., batch_size=batch_size)`.\n",
      "  warning_cache.warn(\n",
      "/home/jwinchell/.local/lib/python3.8/site-packages/pytorch_lightning/utilities/data.py:59: UserWarning: Trying to infer the `batch_size` from an ambiguous collection. The batch size we found is 28. To avoid any miscalculations, use `self.log(..., batch_size=batch_size)`.\n",
      "  warning_cache.warn(\n",
      "/home/jwinchell/.local/lib/python3.8/site-packages/pytorch_lightning/utilities/data.py:59: UserWarning: Trying to infer the `batch_size` from an ambiguous collection. The batch size we found is 30. To avoid any miscalculations, use `self.log(..., batch_size=batch_size)`.\n",
      "  warning_cache.warn(\n",
      "/home/jwinchell/.local/lib/python3.8/site-packages/pytorch_lightning/utilities/data.py:59: UserWarning: Trying to infer the `batch_size` from an ambiguous collection. The batch size we found is 43. To avoid any miscalculations, use `self.log(..., batch_size=batch_size)`.\n",
      "  warning_cache.warn(\n",
      "/home/jwinchell/.local/lib/python3.8/site-packages/pytorch_lightning/utilities/data.py:59: UserWarning: Trying to infer the `batch_size` from an ambiguous collection. The batch size we found is 37. To avoid any miscalculations, use `self.log(..., batch_size=batch_size)`.\n",
      "  warning_cache.warn(\n"
     ]
    },
    {
     "data": {
      "application/vnd.jupyter.widget-view+json": {
       "model_id": "",
       "version_major": 2,
       "version_minor": 0
      },
      "text/plain": [
       "Validating: 0it [00:00, ?it/s]"
      ]
     },
     "metadata": {},
     "output_type": "display_data"
    },
    {
     "data": {
      "application/vnd.jupyter.widget-view+json": {
       "model_id": "",
       "version_major": 2,
       "version_minor": 0
      },
      "text/plain": [
       "Validating: 0it [00:00, ?it/s]"
      ]
     },
     "metadata": {},
     "output_type": "display_data"
    },
    {
     "data": {
      "application/vnd.jupyter.widget-view+json": {
       "model_id": "",
       "version_major": 2,
       "version_minor": 0
      },
      "text/plain": [
       "Validating: 0it [00:00, ?it/s]"
      ]
     },
     "metadata": {},
     "output_type": "display_data"
    },
    {
     "data": {
      "application/vnd.jupyter.widget-view+json": {
       "model_id": "",
       "version_major": 2,
       "version_minor": 0
      },
      "text/plain": [
       "Validating: 0it [00:00, ?it/s]"
      ]
     },
     "metadata": {},
     "output_type": "display_data"
    }
   ],
   "source": [
    "def head(sentence, verbose=False):\n",
    "    nlp = spacy.load(\"en_core_web_sm\")\n",
    "    detokenize = TreebankWordDetokenizer().detokenize\n",
    "    sentence = detokenize(sentence)\n",
    "    doc = nlp(sentence)\n",
    "    if verbose:\n",
    "        print(\"\\n{:<15} | {:<8} | {:<15} | {:<20}\".format('Token', 'Relation', 'Head', 'Children'))\n",
    "        print(\"-\" * 70)\n",
    "        for token in doc:\n",
    "            # Print the token, dependency nature, head and all dependents of the token\n",
    "            print(\"{:<15} | {:<8} | {:<15} | {:<20}\"\n",
    "                  .format(str(token.text), str(token.dep_), str(token.head.text), str([child for child in token.children])))\n",
    "        # Use displayCy to visualize the dependency\n",
    "        displacy.render(doc, style='dep', options={'distance': 120})\n",
    "        print()\n",
    "    for token in doc:\n",
    "        # find verb head\n",
    "        if str(token.dep_) == \"ROOT\":\n",
    "            children = []\n",
    "            for child in token.children:\n",
    "                # find subj nouns\n",
    "                if child.dep_ in (\"nsubj\", \"dobj\", \"compound\"):\n",
    "                    children.append(child)\n",
    "            return [token] + children\n",
    "\n",
    "\n",
    "def rake(sent):\n",
    "    rake = Rake()\n",
    "    if not isinstance(sent, str):\n",
    "        detokenize = TreebankWordDetokenizer().detokenize\n",
    "        sent = detokenize(sent)\n",
    "    #print(sent)\n",
    "    kw = rake.extract_keywords_from_text(sent)\n",
    "#     print(f\"kw:{kw}\")\n",
    "    ranked_phrases = rake.get_ranked_phrases()\n",
    "#     print(f\"ranked:{ranked_phrases}\")\n",
    "    return ranked_phrases\n",
    "\n",
    "\n",
    "def label(subject_lines):\n",
    "    labeled = {\n",
    "        \"text\": [],\n",
    "        \"keywords\": []\n",
    "    }\n",
    "    # extract keys from subject lines as their labels\n",
    "    length = len(subject_lines)\n",
    "    i = 0\n",
    "    for line in subject_lines:\n",
    "        if len(line) <= 1:\n",
    "            length -= 1\n",
    "            continue\n",
    "        try:\n",
    "            phrase = rake(line)[0]\n",
    "        except IndexError as e:\n",
    "            print(f\"Error: {line} -- {phrase}\\t{e}\")\n",
    "            length -= 1\n",
    "            continue\n",
    "        tok_phrase = word_tokenize(phrase)\n",
    "        if len(tok_phrase) <= 1:\n",
    "            length -= 1\n",
    "            continue\n",
    "        x = head(tok_phrase, False)\n",
    "        if len(x) < 3:\n",
    "            length -= 1\n",
    "            continue\n",
    "        if not x:\n",
    "            length -= 1\n",
    "            continue\n",
    "        keywords = ''\n",
    "        for token in x:\n",
    "            keywords += str(token) + ' '\n",
    "        # print(f\"{line} --> {keywords}\")\n",
    "        detokenize = TreebankWordDetokenizer().detokenize\n",
    "        labeled[\"text\"].append(detokenize(line))\n",
    "        labeled[\"keywords\"].append(keywords)\n",
    "        i += 1\n",
    "        print(f\"{i} / {length}         \", end=\"\\r\")\n",
    "    df = pd.DataFrame(labeled)\n",
    "    return df\n",
    "\n",
    "\n",
    "def train(labeled_data):\n",
    "    train, test = train_test_split(labeled_data, shuffle=True)\n",
    "    model = trainer()\n",
    "    model.from_pretrained()\n",
    "    model.train(train_df=train, test_df=test, use_gpu=False)\n",
    "    return model\n",
    "\n",
    "\n",
    "f = open('opened_data.json', )\n",
    "data = json.load(f)['emails']\n",
    "subject_lines = []\n",
    "print(\"Starting...\")\n",
    "for email in data:\n",
    "    try:\n",
    "        if email[0][0] and len(email[0][0]) > 4:\n",
    "            subject_lines.append(email[0][0])\n",
    "    except IndexError as e:\n",
    "        pass\n",
    "#         print(f\"{e}\\n{email}\")\n",
    "#         exit(1)\n",
    "if not os.path.isfile('labelled_data.csv'):\n",
    "    print(\"Labelling has started...\")\n",
    "    df = label(subject_lines)\n",
    "    df.to_csv('labelled_data.csv')\n",
    "else:\n",
    "    df = pd.read_csv('labelled_data.csv')\n",
    "# df = 'm'\n",
    "print(\"Training has started...\")\n",
    "model = train(df)\n",
    "model.save_model(model_dir=\"model\")"
   ]
  },
  {
   "cell_type": "code",
   "execution_count": 12,
   "id": "13f8f307",
   "metadata": {},
   "outputs": [
    {
     "data": {
      "text/plain": [
       "'Fall 2018 paid applications now available.'"
      ]
     },
     "execution_count": 12,
     "metadata": {},
     "output_type": "execute_result"
    }
   ],
   "source": [
    "model.predict([\"paid\", \"fall\", \"applications\"], use_gpu=False)"
   ]
  },
  {
   "cell_type": "code",
   "execution_count": null,
   "id": "5ea5da84",
   "metadata": {},
   "outputs": [],
   "source": []
  }
 ],
 "metadata": {
  "kernelspec": {
   "display_name": "Python [conda env:jupyterhub] *",
   "language": "python",
   "name": "conda-env-jupyterhub-py"
  },
  "language_info": {
   "codemirror_mode": {
    "name": "ipython",
    "version": 3
   },
   "file_extension": ".py",
   "mimetype": "text/x-python",
   "name": "python",
   "nbconvert_exporter": "python",
   "pygments_lexer": "ipython3",
   "version": "3.8.10"
  }
 },
 "nbformat": 4,
 "nbformat_minor": 5
}
